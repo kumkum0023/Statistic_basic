{
  "nbformat": 4,
  "nbformat_minor": 0,
  "metadata": {
    "colab": {
      "private_outputs": true,
      "provenance": []
    },
    "kernelspec": {
      "name": "python3",
      "display_name": "Python 3"
    },
    "language_info": {
      "name": "python"
    }
  },
  "cells": [
    {
      "cell_type": "markdown",
      "source": [
        "  Statistics Basics"
      ],
      "metadata": {
        "id": "n8s-SGRkhGBu"
      }
    },
    {
      "cell_type": "markdown",
      "source": [
        "Q.1) What is statistics, and why is it important?\n",
        "ANS-\n",
        "Statistics - is a branch of mathematics that deals with the collection, analysis, interpretation, presentation, and organization of data. It involves the use of statistical methods and techniques to extract insights and knowledge from data.\n",
        "IS IT IMPORTANT FOR -\n",
        "1. Data Analysis: Statistics provides the foundation for data analysis, which is a critical component of data science. Data scientists use statistical methods to extract insights and patterns from data.\n",
        "2. Informed Decision-Making: Statistics helps data scientists make informed decisions by providing a framework for understanding and interpreting data.\n",
        "3. Model Building: Statistical models are used to predict outcomes, identify relationships, and understand complex phenomena.\n",
        "4. Machine Learning: Statistical concepts, such as regression, hypothesis testing, and confidence intervals, are fundamental to machine learning    algorithms.\n"
      ],
      "metadata": {
        "id": "K_hbgaFnhJgT"
      }
    },
    {
      "cell_type": "markdown",
      "source": [
        "Q.2 What are the two main types of statistics?\n",
        "ANS-\n",
        "1. DESCRIPTIVE STATISTICS\n",
        "2. INFERENTIAL STATISTICS\n",
        "\n",
        "Descriptive statistics -It consist of organizing and summerising the complete data/population\n",
        "\n",
        "inferential statistics -It consists of  using data that has been measured to form conclusion about a population"
      ],
      "metadata": {
        "id": "fIR1Y7THhOai"
      }
    },
    {
      "cell_type": "markdown",
      "source": [
        " Q.3 What are descriptive statistics\n",
        " ANS\n",
        " Descriptive statistics -It consist of organizing and summerising the complete data/population\n",
        "\n",
        " Example - how good Rohit Sharma is as a cricketer?\n",
        " R.S- All the match scores of his entrie career and then calculate avg score\n",
        " [4,5,100,50,.......,264]"
      ],
      "metadata": {
        "id": "sacWfyGvhTlu"
      }
    },
    {
      "cell_type": "markdown",
      "source": [
        "Q.4 What is inferential statistics\n",
        "ANS-\n",
        "inferential statistics -It consists of  using data that has been measured to form conclusion about a population\n",
        "Example - You can't go to 150 crore people of India to record their weights"
      ],
      "metadata": {
        "id": "CoNJSrayhXca"
      }
    },
    {
      "cell_type": "markdown",
      "source": [
        "Q.5 What is sampling in statistics\n",
        "Ans -\n",
        "Sampling in Statistics\n",
        "\n",
        "Sampling is a statistical technique used to select a subset of individuals or observations from a larger population. The goal of sampling is to obtain a representative sample that accurately reflects the characteristics of the population."
      ],
      "metadata": {
        "id": "oMoRW5RHhffu"
      }
    },
    {
      "cell_type": "code",
      "execution_count": null,
      "metadata": {
        "id": "BWrmIDGkguZ8"
      },
      "outputs": [],
      "source": []
    },
    {
      "cell_type": "markdown",
      "source": [
        "Q.6 What are the different types of sampling methods\n",
        "Ans-\n",
        "Sampling Methods\n",
        "1. simple random sampling\n",
        "2. stratified sampling\n",
        "3. cluster sampling\n",
        "4. systematic sampling"
      ],
      "metadata": {
        "id": "JN4bKjIMhjRB"
      }
    },
    {
      "cell_type": "markdown",
      "source": [
        "Q.7 What is the difference between random and non-random sampling\n",
        "Ans-\n",
        "Random Sampling vs Non-Random Sampling\n",
        "\n",
        "Random Sampling\n",
        "- Every member of the population has an equal chance of being selected.\n",
        "- Reduces bias and increases representativeness.\n",
        "- Examples:\n",
        "    - Simple random sampling\n",
        "    - Stratified random sampling\n",
        "    - Cluster random sampling\n",
        "\n",
        "Non-Random Sampling\n",
        "- Selection is based on non-random criteria, such as convenience or judgment.\n",
        "- May introduce bias and reduce representativeness.\n",
        "- Examples:\n",
        "    - Convenience sampling\n",
        "    - Quota sampling\n",
        "    - Purposive sampling"
      ],
      "metadata": {
        "id": "Pq_jzJyihnd1"
      }
    },
    {
      "cell_type": "markdown",
      "source": [
        "Q.8  Define and give examples of qualitative and quantitative data\n",
        "ANS-\n",
        "1. quantitative - Numerical data (measurable)\n",
        "1.1-> Discrete qyqntitative- whole no (0,1,2,3.......,n),it will take specific finite whole number values .\n",
        "example - No of children\n",
        "           1,2,3\n",
        "          No of mob numbers\n",
        "          No of bank accounts\n",
        "1.2-> Continuous quantitative -> Any value in a range . real numbers height ,weight ,speed tempertrue.\n",
        "example - movie durations\n",
        "          lenght\n",
        "        distance salary\n",
        "        price\n",
        "\n",
        "2. qualitative - catgorial\n",
        "2.1 -> Nominal - (no of order in categorical data naturally)\n",
        "example - blood group\n",
        "          gender\n",
        "          colour\n",
        "2.2 -> Ordinal - order in data\n",
        "\n",
        "        "
      ],
      "metadata": {
        "id": "9fQI0nmSh8qZ"
      }
    },
    {
      "cell_type": "markdown",
      "source": [
        "Q.9 What are the different types of data in statistics?\n",
        "Ans-\n",
        " Types of data\n",
        " 1. quantitative data\n",
        " 2. qualitative data"
      ],
      "metadata": {
        "id": "Axls65PwiCsD"
      }
    },
    {
      "cell_type": "markdown",
      "source": [
        "Q.10  Explain nominal, ordinal, interval, and ratio levels of measurement?\n",
        "Ans-\n",
        "1. Nominal scale data - ->Qualitative or categorical data\n",
        "                        -> No order in the data\n",
        "                        -> gender ,colour ,location\n",
        "\n",
        "2. Ordinal scaled data - -> Order and rank has a meaning |matter\n",
        "                         ->Difference can not be measured\n",
        "                         -> Pie chart ,Bar plot\n",
        "                \n",
        "                example - Performance of students\n",
        "                          1st\n",
        "                          2nd\n",
        "                          third\n",
        "\n",
        "\n",
        "3. Interval scale data - -> the rank and order has meaning\n",
        "                      -> Difference can be measured (exception : excluding ratio)\n",
        "                      ->It does not have compulsonly 0 starting value\n",
        "            example - score  90 rank order matter\n",
        "                             85 5 -> differnce has meaning\n",
        "                             70\n",
        "                             50\n",
        "                      lenght\n",
        "                      weight\n",
        "4. Ration scale data  -> order and rank has a meaning\n",
        "                       -> difference and ratio are measurable\n",
        "                       -> It does havheight\n",
        "e a 0 starting ponit compoulsorly\n",
        "\n",
        "        example -  person a is twice the weight of b\n",
        "                    80/40 = 2:1"
      ],
      "metadata": {
        "id": "200XWKnkiGX5"
      }
    },
    {
      "cell_type": "markdown",
      "source": [
        "Q.11 What is the measure of central tendency?\n",
        "Ans-\n",
        "   Measure of central tendency - Central tendency represents the center point of dataset with using of mean ,medain,mode\n",
        "\n",
        "   example - the whole data is depend on central data"
      ],
      "metadata": {
        "id": "xPR3tTeXiZaM"
      }
    },
    {
      "cell_type": "markdown",
      "source": [
        "Q.12 Define mean, median, and mode?\n",
        "Ans-\n",
        "    Mean\n",
        "- Definition: The mean is the average value of a dataset, calculated by summing up all the values and dividing by the number of values.\n",
        "- Formula: Mean = (Sum of all values) / (Number of values)\n",
        "- Example: If the values are 2, 4, 6, 8, 10, the mean is (2 + 4 + 6 + 8 + 10) / 5 = 6.\n",
        "\n",
        "Median\n",
        "- Definition: The median is the middle value of a dataset when it is sorted in order. If there are an even number of values, the median is the average of the two middle values.\n",
        "- Example: If the values are 2, 4, 6, 8, 10, the median is 6. If the values are 2, 4, 6, 8, the median is (4 + 6) / 2 = 5.\n",
        "\n",
        "Mode\n",
        "- Definition: The mode is the value that appears most frequently in a dataset. A dataset can have one mode, multiple modes, or no mode at all.\n",
        "- Example: If the values are 2, 4, 4, 6, 4, the mode is 4.\n"
      ],
      "metadata": {
        "id": "YxkbdYIWidgg"
      }
    },
    {
      "cell_type": "markdown",
      "source": [
        "Q.13 What is the significance of the measure of central tendency ?\n",
        "Ans -\n",
        "Significance of Measures of Central Tendency\n",
        "\n",
        "Measures of central tendency, such as mean, median, and mode, are important in statistics because they provide a single value that describes the middle or typical value of a dataset. The significance of these measures includes:\n",
        "1. Summarizing data: Measures of central tendency help to summarize large datasets into a single value, making it easier to understand and compare data.\n",
        "2. Describing distributions: Measures of central tendency provide insight into the shape and characteristics of a distribution\n",
        "3. Comparing groups: Measures of central tendency can be used to compare the characteristics of different groups or populations."
      ],
      "metadata": {
        "id": "ivb6Jk4YikfW"
      }
    },
    {
      "cell_type": "markdown",
      "source": [
        "Q.14 What is variance, and how is it calculated?\n",
        "Ans -\n",
        "Variance\n",
        "\n",
        "Variance is a measure of the spread or dispersion of a dataset from its mean value. It calculates the average of the squared differences between each data point and the mean.\n",
        "\n",
        "Calculating Variance\n",
        "1. Step 1: Calculate the mean: Calculate the mean of the dataset.\n",
        "2. Step 2: Calculate deviations: Calculate the deviation of each data point from the mean.\n",
        "3. Step 3: Square deviations: Square each deviation.\n",
        "4. Step 4: Calculate average: Calculate the average of the squared deviations.\n",
        "\n",
        "Formula\n",
        "Variance (σ²) = Σ(xi - μ)² / N\n",
        "\n",
        "Where:\n",
        "\n",
        "- σ² = variance\n",
        "- xi = individual data points\n",
        "- μ = mean\n",
        "- N = number of data points\n"
      ],
      "metadata": {
        "id": "nvUPaMTRiq3J"
      }
    },
    {
      "cell_type": "markdown",
      "source": [
        "Q.15 What is standard deviation, and why is it important?\n",
        "Ans - Standard Deviation\n",
        "\n",
        "Standard deviation is a measure of the amount of variation or dispersion of a set of values. It represents how spread out the values are from the mean.\n",
        "\n",
        "Calculation\n",
        "Standard deviation (σ) is calculated as the square root of the variance:\n",
        "\n",
        "σ = √[Σ(xi - μ)² / N]\n",
        "\n",
        "Where:\n",
        "\n",
        "- σ = standard deviation\n",
        "- xi = individual data points\n",
        "- μ = mean\n",
        "- N = number of data points\n"
      ],
      "metadata": {
        "id": "aTF_SYNjiw73"
      }
    },
    {
      "cell_type": "markdown",
      "source": [
        "Q.16 Define and explain the term range in statistics.\n",
        "Ans - Range\n",
        "\n",
        "Range is a measure of the spread or dispersion of a dataset, calculated as the difference between the largest and smallest values.\n",
        "\n",
        "Calculation\n",
        "Range = Maximum value - Minimum value\n",
        "\n",
        "Example\n",
        "Suppose we have a dataset: 2, 4, 6, 8, 10\n",
        "\n",
        "- Maximum value: 10\n",
        "- Minimum value: 2\n",
        "- Range: 10 - 2 = 8\n",
        "\n",
        "Importance\n",
        "1. Measures spread: Range measures the spread or dispersion of a dataset.\n",
        "2. Easy to calculate: Range is simple to calculate and understand.\n",
        "3. Identifies outliers: Range can help identify outliers or extreme values."
      ],
      "metadata": {
        "id": "hc3w7S9Ci2oZ"
      }
    },
    {
      "cell_type": "markdown",
      "source": [
        "Q.17 What is the difference between variance and standard deviation?\n",
        "Ans - Variance vs Standard Deviation\n",
        "\n",
        "Variance and standard deviation are both measures of the spread or dispersion of a dataset, but they differ in their calculation and interpretation.\n",
        "\n",
        "Variance\n",
        "- Definition: Variance is the average of the squared differences between each data point and the mean.\n",
        "- Calculation: Variance = Σ(xi - μ)² / N\n",
        "- Units: Squared units of the data\n",
        "\n",
        "Standard Deviation\n",
        "- Definition: Standard deviation is the square root of the variance.\n",
        "- Calculation: Standard deviation = √Variance\n",
        "- Units: Same units as the data"
      ],
      "metadata": {
        "id": "UQG8AYu5i_2K"
      }
    },
    {
      "cell_type": "markdown",
      "source": [
        "Q.18 What is skewness in a dataset?\n",
        "Ans- Skewness\n",
        "\n",
        "Skewness is a measure of the asymmetry of a probability distribution. It describes the extent to which a dataset deviates from symmetry.\n",
        "\n",
        "Types of Skewness\n",
        "1. Positive Skewness: The tail on the right side of the distribution is longer or fatter than the left side. This means that the majority of the data points are concentrated on the left side.\n",
        "2. Negative Skewness: The tail on the left side of the distribution is longer or fatter than the right side. This means that the majority of the data points are concentrated on the right side.\n",
        "3. Zero Skewness: The distribution is symmetrical, meaning that the left and right sides are mirror images of each other."
      ],
      "metadata": {
        "id": "KFvpLEu4jENC"
      }
    },
    {
      "cell_type": "markdown",
      "source": [
        "Q.19 What does it mean if a dataset is positively or negatively skewed?\n",
        "Ans - Positive and Negative Skewness\n",
        "\n",
        "Positive Skewness\n",
        "- Tail on the right side is longer: Most data points are concentrated on the left side of the distribution.\n",
        "- Mean > Median: The mean is typically greater than the median.\n",
        "- Examples: Income distribution, stock prices, and exam scores can exhibit positive skewness.\n",
        "\n",
        "Negative Skewness\n",
        "- Tail on the left side is longer: Most data points are concentrated on the right side of the distribution.\n",
        "- Mean < Median: The mean is typically less than the median.\n",
        "- Examples: Age distribution of a population, grades on an easy test, and some physical measurements can exhibit negative skewness."
      ],
      "metadata": {
        "id": "al4NwSTVjIL6"
      }
    },
    {
      "cell_type": "markdown",
      "source": [
        "Q.20 Define and explain kurtosis.\n",
        "Ans - Kurtosis\n",
        "\n",
        "Kurtosis is a measure of the \"tailedness\" or \"peakedness\" of a probability distribution. It describes the extent to which a dataset has heavy tails or outliers.\n",
        "\n",
        "Types of Kurtosis\n",
        "1. Leptokurtic: High kurtosis, indicating heavy tails and a high peak.\n",
        "2. Platykurtic: Low kurtosis, indicating light tails and a flat peak.\n",
        "3. Mesokurtic: Normal kurtosis, indicating a normal distribution.\n",
        "\n",
        "Calculation\n",
        "Kurtosis is typically calculated using the following formula:\n",
        "\n",
        "Kurtosis = Σ(xi - μ)⁴ / (N * σ⁴)\n",
        "\n",
        "Where:\n",
        "\n",
        "- xi = individual data points\n",
        "- μ = mean\n",
        "- σ = standard deviation\n",
        "- N = number of data points"
      ],
      "metadata": {
        "id": "fVVjE0GdjPq5"
      }
    },
    {
      "cell_type": "markdown",
      "source": [
        "Q.21 What is the purpose of covariance.\n",
        "Ans - Covariance\n",
        "\n",
        "Covariance is a measure of the linear relationship between two variables. It describes how much two variables change together.\n",
        "\n",
        "Purpose\n",
        "1. Understanding relationships: Covariance helps understand the direction and strength of the linear relationship between two variables.\n",
        "2. Predicting relationships: Covariance is used in predicting the value of one variable based on the value of another variable.\n",
        "3. Portfolio management: Covariance is used in finance to manage portfolios and assess risk.\n",
        "\n",
        "Calculation\n",
        "Covariance = Σ[(xi - μx)(yi - μy)] / (N - 1)\n",
        "\n",
        "Where:\n",
        "\n",
        "- xi and yi = individual data points\n",
        "- μx and μy = means of the variables\n",
        "- N = number of data points"
      ],
      "metadata": {
        "id": "ZP9zsxZ1jUoH"
      }
    },
    {
      "cell_type": "markdown",
      "source": [
        "Q.22 What does correlation measure in statistics?\n",
        "Ans - Correlation\n",
        "\n",
        "Correlation measures the strength and direction of the linear relationship between two variables. It describes how closely two variables move together.\n",
        "\n",
        "What correlation measures:\n",
        "1. Strength of relationship: Correlation measures the strength of the linear relationship between two variables.\n",
        "2. Direction of relationship: Correlation indicates whether the relationship is positive or negative."
      ],
      "metadata": {
        "id": "Ri-tEq2BjZPZ"
      }
    },
    {
      "cell_type": "markdown",
      "source": [
        "Q.23 What is the difference between covariance and correlation?\n",
        "Ans Covariance vs Correlation\n",
        "\n",
        "Covariance\n",
        "- Measures the linear relationship between two variables\n",
        "- Indicates how much two variables change together\n",
        "- Units are the product of the units of the two variables\n",
        "\n",
        "Correlation\n",
        "- Measures the strength and direction of the linear relationship between two variables\n",
        "- Standardized measure that ranges from -1 to 1\n",
        "- Unitless, making it easier to compare relationships between different pairs of variables"
      ],
      "metadata": {
        "id": "1ltxgaJzjd3w"
      }
    },
    {
      "cell_type": "markdown",
      "source": [
        "Q.24 What are some real-world applications of statistics?\n",
        "Ans - Real-World Applications of Statistics\n",
        "\n",
        "Business and Finance\n",
        "1. Market research: Statistical analysis helps businesses understand customer behavior and preferences.\n",
        "2. Risk management: Statistical models help financial institutions assess and manage risk.\n",
        "3. Quality control: Statistical process control helps manufacturers monitor and improve product quality.\n",
        "\n",
        "Medicine and Healthcare\n",
        "1. Clinical trials: Statistical analysis helps researchers evaluate the effectiveness and safety of new treatments.\n",
        "2. Epidemiology: Statistical models help researchers understand the spread of diseases and identify risk factors.\n",
        "3. Medical research: Statistical analysis helps researchers understand the relationships between variables and identify patterns.\n",
        "\n",
        "Social Sciences\n",
        "1. Survey research: Statistical analysis helps researchers understand public opinion and behavior.\n",
        "2. Demography: Statistical models help researchers understand population trends and demographics.\n",
        "3. Economic analysis: Statistical analysis helps researchers understand economic trends and patterns.\n",
        "\n",
        "Sports and Entertainment"
      ],
      "metadata": {
        "id": "aWtLwB_5jiq7"
      }
    },
    {
      "cell_type": "markdown",
      "source": [
        "Practical"
      ],
      "metadata": {
        "id": "ofAz5GP1jrpu"
      }
    },
    {
      "cell_type": "code",
      "source": [
        "# Q.1 How do you calculate the mean, median, and mode of a dataset.\n",
        "import numpy as np\n",
        "from scipy import stats\n",
        "import statistics\n",
        "\n",
        "def calculate_stats(data):\n",
        "\n",
        "\n",
        "  try:\n",
        "    mean = np.mean(data)\n",
        "    median = np.median(data)\n",
        "    # Mode calculation can be problematic if multiple modes exist, or if the input is not suitable.\n",
        "    try:\n",
        "        mode = stats.mode(data).mode[0] #Using scipy for robust mode\n",
        "    except (ValueError, IndexError):\n",
        "        try:\n",
        "          mode = statistics.mode(data)\n",
        "        except statistics.StatisticsError:\n",
        "          mode = \"Cannot be determined\"\n",
        "\n",
        "    return {\"mean\": mean, \"median\": median, \"mode\": mode}\n",
        "  except (TypeError, ValueError):\n",
        "    print(\"Invalid input data. Please provide a numerical list or array.\")\n",
        "    return {}\n",
        "\n",
        "# Example usage\n",
        "age = [28, 56, 35, 28, 76, 89]\n",
        "age_stats = calculate_stats(age)\n",
        "print(\"Age Stats:\", age_stats)\n",
        "\n",
        "height = [170, 180, 100, 120, 122]\n",
        "height_stats = calculate_stats(height)\n",
        "print(\"Height Stats:\", height_stats)\n",
        "\n",
        "height_outliers = [170, 1800, 100, 120, 122]\n",
        "height_outliers_stats = calculate_stats(height_outliers)\n",
        "print(\"Height with Outliers Stats:\", height_outliers_stats)\n",
        "\n",
        "height_2 = [160, 120, 125, 34]\n",
        "height_2_stats = calculate_stats(height_2)\n",
        "print(\"Height 2 Stats:\", height_2_stats)\n",
        "\n",
        "# Example with multimodal data\n",
        "multimodal_data = [1, 2, 2, 3, 3, 4, 5]\n",
        "multimodal_data_stats = calculate_stats(multimodal_data)\n",
        "print(\"Multimodal Data Stats:\", multimodal_data_stats)\n",
        "\n",
        "# Example with invalid data\n",
        "invalid_data = [1, 2, 'a', 4]\n",
        "invalid_data_stats = calculate_stats(invalid_data) # Expected: Error message and empty dictionary.\n"
      ],
      "metadata": {
        "id": "WOZ0jLxdjs2O"
      },
      "execution_count": null,
      "outputs": []
    },
    {
      "cell_type": "code",
      "source": [
        "# Q.2 Write a Python program to compute the variance and standard deviation of a dataset.\n",
        "\n",
        "import numpy as np\n",
        "\n",
        "def calculate_variance_std(data):\n",
        "    \"\"\"\n",
        "    Calculates the variance and standard deviation of a dataset.\n",
        "\n",
        "    Args:\n",
        "      data: A list or numpy array of numerical data.\n",
        "\n",
        "    Returns:\n",
        "      A dictionary containing the variance and standard deviation, or an empty\n",
        "      dictionary if the input is invalid.\n",
        "    \"\"\"\n",
        "    try:\n",
        "        variance = np.var(data)\n",
        "        std_dev = np.std(data)\n",
        "        return {\"variance\": variance, \"std_dev\": std_dev}\n",
        "    except (TypeError, ValueError):\n",
        "        print(\"Invalid input data. Please provide a numerical list or array.\")\n",
        "        return {}\n",
        "\n",
        "# Example usage\n",
        "data1 = [2, 4, 4, 4, 5, 5, 7, 9]\n",
        "stats1 = calculate_variance_std(data1)\n",
        "print(\"Statistics for data1:\", stats1)\n",
        "\n",
        "data2 = [10, 20, 30, 40, 50]\n",
        "stats2 = calculate_variance_std(data2)\n",
        "print(\"Statistics for data2:\", stats2)\n",
        "\n",
        "\n",
        "data3 = [1,2,3,'a']\n",
        "stats3 = calculate_variance_std(data3) # Expecting error message and empty dict\n",
        "print(\"Statistics for data3:\", stats3)"
      ],
      "metadata": {
        "id": "Q0-cMHggj3So"
      },
      "execution_count": null,
      "outputs": []
    },
    {
      "cell_type": "code",
      "source": [
        "\n",
        "# Q.3 Create a dataset and classify it into nominal, ordinal, interval, and ratio types.\n",
        "import pandas as pd\n",
        "\n",
        "data = {'Color': ['Red', 'Green', 'Blue', 'Red', 'Green'],\n",
        "        'Size': ['Small', 'Medium', 'Large', 'Small', 'Medium'],\n",
        "        'Rating': [1, 2, 3, 1, 2],\n",
        "        'Temperature': [25, 30, 20, 27, 28],\n",
        "        'Price': [10, 20, 30, 10, 20]}\n",
        "\n",
        "df = pd.DataFrame(data)\n",
        "\n",
        "print(\"Nominal Data (Categorical, no order):\\n\", df[['Color']])\n",
        "print(\"\\nOrdinal Data (Categorical, with order):\\n\", df[['Size', 'Rating']])\n",
        "print(\"\\nInterval Data (Ordered, meaningful differences, no true zero):\\n\", df[['Temperature']])\n",
        "print(\"\\nRatio Data (Ordered, meaningful differences, true zero):\\n\", df[['Price']])"
      ],
      "metadata": {
        "id": "-u5QnPnwkOLJ"
      },
      "execution_count": null,
      "outputs": []
    },
    {
      "cell_type": "code",
      "source": [
        "\n",
        "# Q.4  Implement sampling techniques like random sampling and stratified sampling.\n",
        "import pandas as pd\n",
        "import numpy as np\n",
        "\n",
        "def random_sampling(df, sample_size):\n",
        "\n",
        "  return df.sample(n=sample_size, random_state=42)  # random_state for reproducibility\n",
        "\n",
        "\n",
        "def stratified_sampling(df, column, sample_size_per_strata):\n",
        "\n",
        "    try:\n",
        "        stratified_sample = df.groupby(column).apply(lambda x: x.sample(n=min(len(x),sample_size_per_strata), random_state=42)) # Use min to avoid sampling more than available in strata\n",
        "        stratified_sample = stratified_sample.reset_index(drop=True)\n",
        "        return stratified_sample\n",
        "    except KeyError:\n",
        "        print(f\"Error: Column '{column}' not found in the DataFrame.\")\n",
        "        return None\n",
        "    except ValueError:  # Handle errors if sample_size_per_strata is too large\n",
        "        print(\"Error: sample_size_per_strata is too large for one or more strata.\")\n",
        "        return None\n",
        "\n",
        "\n",
        "# Example usage (assuming your DataFrame 'df' is already created)\n",
        "data = {'Color': ['Red', 'Green', 'Blue', 'Red', 'Green', 'Red', 'Blue', 'Green'],\n",
        "        'Value': [10, 20, 30, 15, 25, 12, 35, 22]}\n",
        "\n",
        "df = pd.DataFrame(data)\n",
        "\n",
        "# Random sampling\n",
        "random_sample = random_sampling(df, sample_size=3)\n",
        "print(\"Random Sample:\\n\", random_sample)\n",
        "\n",
        "# Stratified sampling\n",
        "stratified_sample = stratified_sampling(df, column='Color', sample_size_per_strata=1)\n",
        "print(\"\\nStratified Sample:\\n\", stratified_sample)\n"
      ],
      "metadata": {
        "id": "rgziDqIskqY8"
      },
      "execution_count": null,
      "outputs": []
    },
    {
      "cell_type": "code",
      "source": [
        "#Q.5 Write a Python function to calculate the range of a dataset.\n",
        "\n",
        "import numpy as np\n",
        "def calculate_range(data):\n",
        "\n",
        "    try:\n",
        "        data = np.array(data)  # Convert to NumPy array for easier calculations\n",
        "        return np.ptp(data)  # Use ptp for peak-to-peak (range)\n",
        "    except (TypeError, ValueError):\n",
        "        print(\"Invalid input data. Please provide a numerical list or array.\")\n",
        "        return None\n",
        "\n",
        "# Example usage\n",
        "data1 = [2, 4, 4, 4, 5, 5, 7, 9]\n",
        "range1 = calculate_range(data1)\n",
        "print(f\"The range of data1 is: {range1}\")\n",
        "\n",
        "data2 = [10, 20, 30, 40, 50]\n",
        "range2 = calculate_range(data2)\n",
        "print(f\"The range of data2 is: {range2}\")"
      ],
      "metadata": {
        "id": "YP-QWEuQlH22"
      },
      "execution_count": null,
      "outputs": []
    },
    {
      "cell_type": "code",
      "source": [
        "#Q.6  Create a dataset and plot its histogram to visualize skewness.\n",
        "import matplotlib.pyplot as plt\n",
        "import numpy as np\n",
        "\n",
        "# Create a sample dataset (replace with your actual data)\n",
        "data = np.random.exponential(scale=1.0, size=1000)  # Example: Exponentially distributed data\n",
        "\n",
        "# Create the histogram\n",
        "plt.hist(data, bins=30, edgecolor='black')  # Adjust bins as needed\n",
        "plt.xlabel('Value')\n",
        "plt.ylabel('Frequency')\n",
        "plt.title('Histogram of Dataset')\n",
        "plt.grid(True)\n",
        "plt.show()\n"
      ],
      "metadata": {
        "id": "jlY8RRLBlYLO"
      },
      "execution_count": null,
      "outputs": []
    },
    {
      "cell_type": "code",
      "source": [
        "#Q.7 Calculate skewness and kurtosis of a dataset using Python libraries.\n",
        "import numpy as np\n",
        "from scipy import stats\n",
        "\n",
        "def calculate_skewness_kurtosis(data):\n",
        "    \"\"\"\n",
        "    Calculates the skewness and kurtosis of a dataset.\n",
        "\n",
        "    Args:\n",
        "      data: A list or numpy array of numerical data.\n",
        "\n",
        "    Returns:\n",
        "      A dictionary containing the skewness and kurtosis, or an empty\n",
        "      dictionary if the input is invalid.\n",
        "    \"\"\"\n",
        "    try:\n",
        "        skewness = stats.skew(data)\n",
        "        kurtosis = stats.kurtosis(data)\n",
        "        return {\"skewness\": skewness, \"kurtosis\": kurtosis}\n",
        "    except (TypeError, ValueError):\n",
        "        print(\"Invalid input data. Please provide a numerical list or array.\")\n",
        "        return {}\n",
        "\n",
        "# Example usage\n",
        "data1 = [2, 4, 4, 4, 5, 5, 7, 9]\n",
        "stats1 = calculate_skewness_kurtosis(data1)\n",
        "print(\"Skewness and Kurtosis for data1:\", stats1)\n",
        "\n",
        "data2 = [10, 20, 30, 40, 50]\n",
        "stats2 = calculate_skewness_kurtosis(data2)\n",
        "print(\"Skewness and Kurtosis for data2:\", stats2)\n",
        "\n",
        "data3 = np.random.normal(loc=0, scale=1, size=100) # Example with normal distribution\n",
        "stats3 = calculate_skewness_kurtosis(data3)\n",
        "print(\"Skewness and Kurtosis for data3 (normal dist):\", stats3)\n",
        "\n",
        "data4 = [1,2,3,'a'] # Expecting an error\n",
        "stats4 = calculate_skewness_kurtosis(data4)\n",
        "print(\"Skewness and Kurtosis for data4:\", stats4)\n"
      ],
      "metadata": {
        "id": "Kr9M5-INloWc"
      },
      "execution_count": null,
      "outputs": []
    },
    {
      "cell_type": "code",
      "source": [
        "# Q.8 Generate a dataset and demonstrate positive and negative skewness.\n",
        "\n",
        "import numpy as np\n",
        "import matplotlib.pyplot as plt\n",
        "\n",
        "# Generate a positively skewed dataset\n",
        "positive_skew = np.random.exponential(scale=1, size=1000)\n",
        "\n",
        "# Generate a negatively skewed dataset\n",
        "negative_skew = -np.random.exponential(scale=1, size=1000)\n",
        "\n",
        "# Plot the histograms\n",
        "plt.figure(figsize=(18, 5))\n",
        "\n",
        "plt.subplot(2, 1, 2)\n",
        "plt.hist(positive_skew, bins=30, edgecolor='black')\n",
        "plt.title('Positively Skewed Data')\n",
        "plt.xlabel('Value')\n",
        "plt.ylabel('Frequency')\n",
        "\n",
        "plt.subplot(2, 3, 3)\n",
        "plt.hist(negative_skew, bins=30, edgecolor='black')\n",
        "plt.title('Negatively Skewed Data')\n",
        "plt.xlabel('Value')\n",
        "plt.ylabel('Frequency')\n",
        "\n",
        "plt.tight_layout()\n",
        "plt.show()"
      ],
      "metadata": {
        "id": "ZaEksP1Cl4q-"
      },
      "execution_count": null,
      "outputs": []
    },
    {
      "cell_type": "code",
      "source": [
        "#Q.9 Write a Python script to calculate covariance between two datasets.\n",
        "import numpy as np\n",
        "\n",
        "def calculate_covariance(dataset1, dataset2):\n",
        "\n",
        "    try:\n",
        "        # Convert to NumPy arrays for efficient calculations\n",
        "        data1 = np.array(dataset1)\n",
        "        data2 = np.array(dataset2)\n",
        "\n",
        "        # Check if datasets have the same length\n",
        "        if len(data1) != len(data2):\n",
        "            print(\"Error: Datasets must have the same length.\")\n",
        "            return None\n",
        "\n",
        "        # Check for numerical data\n",
        "        if not np.issubdtype(data1.dtype, np.number) or not np.issubdtype(data2.dtype, np.number):\n",
        "            print(\"Error: Datasets must contain numerical data.\")\n",
        "            return None\n",
        "\n",
        "\n",
        "        # Calculate the covariance using NumPy\n",
        "        covariance = np.cov(data1, data2, bias=True)[0, 1]  # bias=True for population covariance\n",
        "        return covariance\n",
        "\n",
        "    except (TypeError, ValueError):\n",
        "        print(\"Invalid input data. Please provide numerical lists or arrays.\")\n",
        "        return None\n",
        "\n",
        "# Example usage\n",
        "dataset1 = [1, 2, 3, 4, 5,6]\n",
        "dataset2 = [2, 4, 5, 4, 5,7]\n",
        "covariance = calculate_covariance(dataset1, dataset2)\n",
        "\n",
        "if covariance is not None:\n",
        "    print(f\"The covariance between the two datasets is: {covariance}\")\n"
      ],
      "metadata": {
        "id": "wKl9qZQcmcIu"
      },
      "execution_count": null,
      "outputs": []
    },
    {
      "cell_type": "code",
      "source": [
        "#Q.10 Write a Python script to calculate the correlation coefficient between two datasets.\n",
        "\n",
        "import numpy as np\n",
        "def calculate_correlation(dataset1, dataset2):\n",
        "\n",
        "    try:\n",
        "        # Convert to NumPy arrays for efficient calculations\n",
        "        data1 = np.array(dataset1)\n",
        "        data2 = np.array(dataset2)\n",
        "\n",
        "        # Check if datasets have the same length\n",
        "        if len(data1) != len(data2):\n",
        "            print(\"Error: Datasets must have the same length.\")\n",
        "            return None\n",
        "\n",
        "        # Check for numerical data\n",
        "        if not np.issubdtype(data1.dtype, np.number) or not np.issubdtype(data2.dtype, np.number):\n",
        "            print(\"Error: Datasets must contain numerical data.\")\n",
        "            return None\n",
        "\n",
        "        # Calculate the correlation coefficient using NumPy\n",
        "        correlation = np.corrcoef(data1, data2)[0, 1]\n",
        "        return correlation\n",
        "\n",
        "    except (TypeError, ValueError):\n",
        "        print(\"Invalid input data. Please provide numerical lists or arrays.\")\n",
        "        return None"
      ],
      "metadata": {
        "id": "81jbNEsjnA4x"
      },
      "execution_count": null,
      "outputs": []
    },
    {
      "cell_type": "code",
      "source": [
        "# Q.11 Create a scatter plot to visualize the relationship between two variables.\n",
        "import matplotlib.pyplot as plt\n",
        "\n",
        "# Sample data (replace with your actual data)\n",
        "x = [1, 2, 3, 4, 5,6]\n",
        "y = [2, 4, 1, 5, 3,6]\n",
        "\n",
        "# Create the scatter plot\n",
        "plt.scatter(x, y)\n",
        "\n",
        "# Add labels and title\n",
        "plt.xlabel('X-axis Label')\n",
        "plt.ylabel('Y-axis Label')\n",
        "plt.title('Scatter Plot')\n",
        "\n",
        "# Display the plot\n",
        "plt.show()\n"
      ],
      "metadata": {
        "id": "b-3xfhIdnfQw"
      },
      "execution_count": null,
      "outputs": []
    },
    {
      "cell_type": "code",
      "source": [
        "# Q.12 Implement and compare simple random sampling and systematic sampling.\n",
        "import pandas as pd\n",
        "import numpy as np\n",
        "\n",
        "def systematic_sampling(df, sample_size):\n",
        "\n",
        "\n",
        "    n = len(df)\n",
        "    k = n // sample_size  # Calculate the sampling interval\n",
        "    start = np.random.randint(0, k)  # Randomly select a starting point\n",
        "    indices = np.arange(start, n, k)  # Generate indices for the systematic sample\n",
        "    systematic_sample = df.iloc[indices]\n",
        "    return systematic_sample\n",
        "\n",
        "# Example usage:\n",
        "data = {'Value': np.random.rand(100)}  # Example data (replace with your DataFrame)\n",
        "df = pd.DataFrame(data)\n",
        "\n",
        "# Simple random sampling\n",
        "random_sample = random_sampling(df, sample_size=10)\n",
        "\n",
        "# Systematic sampling\n",
        "systematic_sample = systematic_sampling(df, sample_size=10)\n",
        "\n",
        "\n",
        "print(\"Simple random sample:\\n\",random_sample)\n",
        "print(\"\\nSystematic sample:\\n\",systematic_sample)"
      ],
      "metadata": {
        "id": "zrUQuP1Pn2WO"
      },
      "execution_count": null,
      "outputs": []
    },
    {
      "cell_type": "code",
      "source": [
        "#Q.13  Calculate the mean, median, and mode of grouped data.\n",
        "\n",
        "import numpy as np\n",
        "from scipy import stats\n",
        "\n",
        "def calculate_grouped_stats(data, lower_bounds, upper_bounds, frequencies):\n",
        "\n",
        "    if not isinstance(frequencies, list) or not all(isinstance(freq, (int, float)) and freq >= 0 for freq in frequencies):\n",
        "      print(\"Error: Invalid frequencies provided.\")\n",
        "      return {}\n",
        "\n",
        "    if not (len(lower_bounds) == len(upper_bounds) == len(frequencies)):\n",
        "        print(\"Error: Lengths of lower_bounds, upper_bounds, and frequencies must be the same.\")\n",
        "        return {}\n",
        "\n",
        "    midpoints = [(l + u) / 2 for l, u in zip(lower_bounds, upper_bounds)]\n",
        "    n = sum(frequencies)\n",
        "\n",
        "    if n == 0:\n",
        "        print(\"Error: The total frequency is zero. Cannot calculate the statistics.\")\n",
        "        return {}\n",
        "\n",
        "    # Mean\n",
        "    mean = sum(mid * freq for mid, freq in zip(midpoints, frequencies)) / n\n",
        "\n",
        "    # Median (approximate)\n",
        "    cumulative_freq = np.cumsum(frequencies)\n",
        "    median_class_index = np.where(cumulative_freq >= n/2)[0][0]\n",
        "    median_lower_bound = lower_bounds[median_class_index]\n",
        "    median_class_width = upper_bounds[median_class_index] - lower_bounds[median_class_index]\n",
        "    median_class_freq = frequencies[median_class_index]\n",
        "    cf_before_median_class = cumulative_freq[median_class_index - 1] if median_class_index > 0 else 0\n",
        "    median = median_lower_bound + ((n / 2 - cf_before_median_class) / median_class_freq) * median_class_width\n",
        "\n",
        "    # Mode (approximate)\n",
        "    modal_class_index = frequencies.index(max(frequencies))\n",
        "    modal_lower_bound = lower_bounds[modal_class_index]\n",
        "    modal_class_width = upper_bounds[modal_class_index] - lower_bounds[modal_class_index]\n",
        "    f1 = frequencies[modal_class_index-1] if modal_class_index > 0 else 0\n",
        "    f2 = frequencies[modal_class_index]\n",
        "    f3 = frequencies[modal_class_index+1] if modal_class_index < len(frequencies) - 1 else 0\n",
        "    mode = modal_lower_bound + ((f2 - f1) / (2 * f2 - f1 - f3)) * modal_class_width\n",
        "\n",
        "    return {\"mean\": mean, \"median\": median, \"mode\": mode}\n",
        "\n",
        "\n",
        "# Example usage:\n",
        "lower_bounds = [10, 20, 30, 40, 50]\n",
        "upper_bounds = [19, 29, 39, 49, 59]\n",
        "frequencies = [5, 10, 15, 8, 2]\n",
        "\n",
        "grouped_stats = calculate_grouped_stats(None, lower_bounds, upper_bounds, frequencies)\n",
        "print(f\"Grouped Statistics: {grouped_stats}\")\n"
      ],
      "metadata": {
        "id": "RH_CTVIAoUzw"
      },
      "execution_count": null,
      "outputs": []
    },
    {
      "cell_type": "code",
      "source": [
        "#Q.14 Simulate data using Python and calculate its central tendency and dispersion.\n",
        "import numpy as np\n",
        "from scipy import stats\n",
        "\n",
        "def pearson_correlation(dataset1, dataset2):\n",
        "    \"\"\"Calculates the Pearson correlation coefficient.\"\"\"\n",
        "    try:\n",
        "        return np.corrcoef(dataset1, dataset2)[0, 1]\n",
        "    except (ValueError, TypeError):\n",
        "        print(\"Invalid input data. Please provide numerical lists or arrays of the same length.\")\n",
        "        return None\n",
        "\n",
        "def spearman_correlation(dataset1, dataset2):\n",
        "    \"\"\"Calculates the Spearman rank correlation coefficient.\"\"\"\n",
        "    try:\n",
        "        return stats.spearmanr(dataset1, dataset2)[0]\n",
        "    except (ValueError, TypeError):\n",
        "        print(\"Invalid input data. Please provide numerical lists or arrays of the same length.\")\n",
        "        return None\n"
      ],
      "metadata": {
        "id": "W0O7Hv-Rot-d"
      },
      "execution_count": null,
      "outputs": []
    },
    {
      "cell_type": "code",
      "source": [
        "#Q.15 Use NumPy or pandas to summarize a dataset’s descriptive statistics.\n",
        "import pandas as pd\n",
        "\n",
        "def summarize_dataset(data):\n",
        "\n",
        "    try:\n",
        "        if isinstance(data, list):\n",
        "            df = pd.DataFrame(data)  # Convert list to DataFrame for easier analysis\n",
        "        elif isinstance(data, pd.DataFrame):\n",
        "            df = data\n",
        "        else:\n",
        "            print(\"Invalid input data. Please provide a list or pandas DataFrame.\")\n",
        "            return None\n",
        "\n",
        "        # Calculate descriptive statistics using pandas\n",
        "        summary = df.describe(include='all')\n",
        "\n",
        "        return summary\n",
        "    except (TypeError, ValueError):\n",
        "        print(\"Error calculating statistics.\")\n",
        "        return None\n",
        "\n"
      ],
      "metadata": {
        "id": "Hr_6qCgkpage"
      },
      "execution_count": null,
      "outputs": []
    },
    {
      "cell_type": "code",
      "source": [
        "#Q.16  Plot a boxplot to understand the spread and identify outliers.\n",
        "import matplotlib.pyplot as plt\n",
        "\n",
        "# Assuming 'height' is your data\n",
        "plt.boxplot(height)\n",
        "plt.ylabel('Height')\n",
        "plt.title('Boxplot of Height')\n",
        "plt.show()\n"
      ],
      "metadata": {
        "id": "AcagCrNEqfcJ"
      },
      "execution_count": null,
      "outputs": []
    },
    {
      "cell_type": "code",
      "source": [
        "#Q.17 Calculate the interquartile range (IQR) of a dataset.\n",
        "import numpy as np\n",
        "\n",
        "def calculate_iqr(data):\n",
        "\n",
        "    try:\n",
        "        q1 = np.percentile(data, 34)\n",
        "        q3 = np.percentile(data, 85)\n",
        "        iqr = q3 - q1\n",
        "        return iqr\n",
        "    except (TypeError, ValueError):\n",
        "        print(\"Invalid input data. Please provide a numerical list or array.\")\n",
        "        return None\n",
        "\n",
        "# Example usage\n",
        "height = [173, 140, 100, 120, 122]\n",
        "iqr_height = calculate_iqr(height)\n",
        "print(f\"The IQR of height data is: {iqr_height}\")\n",
        "\n",
        "height_outliers = [170, 1800, 100, 120, 122]\n",
        "iqr_height_outliers = calculate_iqr(height_outliers)\n",
        "print(f\"The IQR of height data with outliers is: {iqr_height_outliers}\")"
      ],
      "metadata": {
        "id": "2Zw87ndHq8H4"
      },
      "execution_count": null,
      "outputs": []
    },
    {
      "cell_type": "code",
      "source": [
        "#Q.18 Implement Z-score normalization and explain its significance.\n",
        "import numpy as np\n",
        "\n",
        "def zscore_normalize(data):\n",
        "\n",
        "    try:\n",
        "        data = np.array(data, dtype=float)  # Ensure data is a NumPy array of floats\n",
        "        mean = np.mean(data)\n",
        "        std_dev = np.std(data)\n",
        "\n",
        "        if std_dev == 0:  # Handle cases with zero standard deviation to avoid division by zero\n",
        "            print(\"Warning: Standard deviation is zero. Cannot normalize.\")\n",
        "            return np.zeros_like(data)\n",
        "\n",
        "        normalized_data = (data - mean) / std_dev\n",
        "        return normalized_data\n",
        "\n",
        "    except (TypeError, ValueError):\n",
        "        print(\"Invalid input data. Please provide a numerical list or array.\")\n",
        "        return None\n",
        "\n",
        "# Example usage\n",
        "data = [10, 20, 30, 40, 50]\n",
        "normalized_data = zscore_normalize(data)\n",
        "if normalized_data is not None:\n",
        "    print(\"Original data:\", data)\n",
        "    print(\"Z-score normalized data:\", normalized_data)\n"
      ],
      "metadata": {
        "id": "MviAqjx-rRLJ"
      },
      "execution_count": null,
      "outputs": []
    },
    {
      "cell_type": "code",
      "source": [
        "#Q.19 Compare two datasets using their standard deviations.\n",
        "import numpy as np\n",
        "\n",
        "def compare_datasets_std(dataset1, dataset2):\n",
        "\n",
        "\n",
        "    try:\n",
        "        std_dev1 = np.std(dataset1)\n",
        "        std_dev2 = np.std(dataset2)\n",
        "\n",
        "        if std_dev1 > std_dev2:\n",
        "            return \"Dataset 1 has a larger standard deviation than Dataset 2.\"\n",
        "        elif std_dev2 > std_dev1:\n",
        "            return \"Dataset 2 has a larger standard deviation than Dataset 1.\"\n",
        "        else:\n",
        "            return \"Both datasets have the same standard deviation.\"\n",
        "\n",
        "    except (TypeError, ValueError):\n",
        "        return \"Invalid input data. Please provide numerical lists or arrays.\"\n",
        "\n",
        "\n",
        "# Example usage with your existing data:\n",
        "dataset1 = height  # Assuming 'height' is defined as in your original code\n",
        "dataset2 = age  # Assuming 'age' is defined as in your original code\n",
        "\n",
        "comparison_result = compare_datasets_std(dataset1, dataset2)\n",
        "comparison_result\n"
      ],
      "metadata": {
        "id": "nKIly8Dmrl_j"
      },
      "execution_count": null,
      "outputs": []
    },
    {
      "cell_type": "code",
      "source": [
        "#Q.20 Write a Python program to visualize covariance using a heatmap.\n",
        "\n",
        "import matplotlib.pyplot as plt\n",
        "import numpy as np\n",
        "import pandas as pd\n",
        "import seaborn as sns\n",
        "\n",
        "def visualize_covariance_heatmap(data):\n",
        "\n",
        "\n",
        "    if not isinstance(data, pd.DataFrame):\n",
        "        print(\"Error: Input data must be a pandas DataFrame.\")\n",
        "        return\n",
        "\n",
        "    # Calculate the covariance matrix\n",
        "    covariance_matrix = data.cov()\n",
        "\n",
        "    # Create the heatmap\n",
        "    plt.figure(figsize=(8, 6))\n",
        "    sns.heatmap(covariance_matrix, annot=True, cmap='coolwarm', fmt=\".2f\")\n",
        "    plt.title('Covariance Heatmap')\n",
        "    plt.show()\n",
        "\n",
        "# Example usage (replace with your actual DataFrame)\n",
        "data = {'Feature1': [1, 2, 3, 4, 5],\n",
        "        'Feature2': [2, 4, 1, 5, 3],\n",
        "        'Feature3': [3, 1, 4, 2, 5]}\n",
        "\n",
        "df = pd.DataFrame(data)\n",
        "visualize_covariance_heatmap(df)\n"
      ],
      "metadata": {
        "id": "70c8J9hfsA6B"
      },
      "execution_count": null,
      "outputs": []
    },
    {
      "cell_type": "code",
      "source": [
        "#Q.21 > Use seaborn to create a correlation matrix for a dataset.\n",
        "import pandas as pd\n",
        "import matplotlib.pyplot as plt\n",
        "def visualize_correlation_matrix(data):\n",
        "    \"\"\"\n",
        "    Visualizes the correlation matrix of a dataset using a heatmap.\n",
        "\n",
        "    Args:\n",
        "        data (pandas.DataFrame): The input DataFrame.\n",
        "    \"\"\"\n",
        "\n",
        "    if not isinstance(data, pd.DataFrame):\n",
        "        print(\"Error: Input data must be a pandas DataFrame.\")\n",
        "        return\n",
        "\n",
        "    # Calculate the correlation matrix\n",
        "    correlation_matrix = data.corr()\n",
        "\n",
        "    # Create the heatmap\n",
        "    plt.figure(figsize=(8, 6))\n",
        "    sns.heatmap(correlation_matrix, annot=True, cmap='coolwarm', fmt=\".2f\")\n",
        "    plt.title('Correlation Matrix Heatmap')\n",
        "    plt.show()\n",
        "\n",
        "# Example usage (replace with your actual DataFrame)\n",
        "# Assuming 'df' is your DataFrame from the previous code\n",
        "visualize_correlation_matrix(df)\n"
      ],
      "metadata": {
        "id": "lmzrss6isYqz"
      },
      "execution_count": null,
      "outputs": []
    },
    {
      "cell_type": "code",
      "source": [
        "# Q.22 Generate a dataset and implement both variance and standard deviation computations.\n",
        "import numpy as np\n",
        "\n",
        "def calculate_variance_std(data):\n",
        "\n",
        "    try:\n",
        "        variance = np.var(data)\n",
        "        std_dev = np.std(data)\n",
        "        return {\"variance\": variance, \"std_dev\": std_dev}\n",
        "    except (TypeError, ValueError):\n",
        "        print(\"Invalid input data. Please provide a numerical list or array.\")\n",
        "        return {}\n",
        "\n",
        "# Example usage\n",
        "data = [10, 12, 23, 23, 16, 23, 21, 16]  # Example dataset\n",
        "stats = calculate_variance_std(data)\n",
        "\n",
        "if stats:  # Check if the stats dictionary is not empty\n",
        "    print(\"Variance:\", stats[\"variance\"])\n",
        "    print(\"Standard Deviation:\", stats[\"std_dev\"])\n"
      ],
      "metadata": {
        "id": "a1mNo27Wsq61"
      },
      "execution_count": null,
      "outputs": []
    },
    {
      "cell_type": "code",
      "source": [
        "#Q.23  Visualize skewness and kurtosis using Python libraries like matplotlib or seaborn.\n",
        "import matplotlib.pyplot as plt\n",
        "import numpy as np\n",
        "from scipy import stats\n",
        "\n",
        "def visualize_skewness_kurtosis(data):\n",
        "\n",
        "\n",
        "    try:\n",
        "        # Calculate skewness and kurtosis\n",
        "        skewness = stats.skew(data)\n",
        "        kurtosis = stats.kurtosis(data)\n",
        "\n",
        "        # Create the histogram\n",
        "        plt.figure(figsize=(10, 6))  # Adjust figure size as needed\n",
        "        plt.hist(data, bins=30, edgecolor='black')\n",
        "        plt.xlabel('Value')\n",
        "        plt.ylabel('Frequency')\n",
        "        plt.title(f'Histogram of Dataset (Skewness: {skewness:.2f}, Kurtosis: {kurtosis:.2f})')\n",
        "        plt.grid(True)\n",
        "\n",
        "\n",
        "        # Add text annotations for skewness and kurtosis (optional)\n",
        "        plt.text(0.05, 0.95, f'Skewness: {skewness:.2f}', transform=plt.gca().transAxes, fontsize=12, verticalalignment='top')\n",
        "        plt.text(0.05, 0.90, f'Kurtosis: {kurtosis:.2f}', transform=plt.gca().transAxes, fontsize=12, verticalalignment='top')\n",
        "\n",
        "        plt.show()\n",
        "\n",
        "    except (TypeError, ValueError):\n",
        "        print(\"Invalid input data. Please provide a numerical list or array.\")\n",
        "# Example usage with your height data (replace with your actual data)\n",
        "visualize_skewness_kurtosis(height)\n",
        "\n",
        "# Example with a different dataset\n",
        "data = np.random.normal(loc=0, scale=1, size=1000)  # Normal distribution\n",
        "visualize_skewness_kurtosis(data)\n",
        "\n",
        "data = np.random.exponential(scale = 1, size = 1000)\n",
        "visualize_skewness_kurtosis(data)\n"
      ],
      "metadata": {
        "id": "QFHI1xNos-iB"
      },
      "execution_count": null,
      "outputs": []
    },
    {
      "cell_type": "code",
      "source": [
        "#Q.24 > Implement the Pearson and Spearman correlation coefficients for a dataset.\n",
        "\n",
        "import numpy as np\n",
        "\n",
        "def pearson_correlation(dataset1, dataset2):\n",
        "    \"\"\"Calculates the Pearson correlation coefficient.\"\"\"\n",
        "    try:\n",
        "        return np.corrcoef(dataset1, dataset2)[0, 1]\n",
        "    except (ValueError, TypeError):\n",
        "        print(\"Invalid input data. Please provide numerical lists or arrays of the same length.\")\n",
        "        return None\n",
        "\n",
        "def spearman_correlation(dataset1, dataset2):\n",
        "    \"\"\"Calculates the Spearman rank correlation coefficient.\"\"\"\n",
        "    try:\n",
        "        return stats.spearmanr(dataset1, dataset2)[0]\n",
        "    except (ValueError, TypeError):\n",
        "        print(\"Invalid input data. Please provide numerical lists or arrays of the same length.\")\n",
        "        return None\n",
        "\n",
        "# Example usage\n",
        "dataset1 = [1, 2, 3, 4, 5]\n",
        "dataset2 = [2, 4, 1, 5, 3]\n",
        "\n",
        "pearson_coeff = pearson_correlation(dataset1, dataset2)\n",
        "spearman_coeff = spearman_correlation(dataset1, dataset2)\n",
        "\n",
        "if pearson_coeff is not None:\n",
        "    print(f\"Pearson correlation coefficient: {pearson_coeff}\")\n",
        "\n",
        "if spearman_coeff is not None:\n",
        "    print(f\"Spearman correlation coefficient: {spearman_coeff}\")\n"
      ],
      "metadata": {
        "id": "YCinrDMutahn"
      },
      "execution_count": null,
      "outputs": []
    }
  ]
}